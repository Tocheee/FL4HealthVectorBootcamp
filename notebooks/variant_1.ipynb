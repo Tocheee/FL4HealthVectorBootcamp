{
 "cells": [
  {
   "cell_type": "markdown",
   "id": "directed-singles",
   "metadata": {},
   "source": [
    "\n",
    "\n",
    "# **Centralized Training with PyTorch - Adapted for the Bank Account Fraud Use Case and Dataset**  \n",
    "\n",
    "This Jupyter Notebook is adapted from [Nickerson J's blog post](https://www.nickersonj.com/posts/pytorch-tabular/) and provides step-by-step guidance on processing tabular data for training a PyTorch model. It was originally set up to apply to the Titanic Dataset but has been modified for the Bank Acccount Fraud Dataset. The goal is to predit fraud on account opening data.\n",
    "\n",
    "\n",
    "## **Workflow Overview**  \n",
    "\n",
    "To enable effective model training, follow these key steps:  \n",
    "\n",
    "0. **Import Modules**\n",
    "1. **Load Data**\n",
    "2. **Feature Engineering** \n",
    "3. **Define Datasets and Dataloaders**  \n",
    "4. **Define Model**  \n",
    "5. **Train and Save the Model**  \n",
    "6. **Inference**  \n",
    "\n",
    "Each step is essential for preparing your tabular dataset and optimizing the training process. Let's dive in!  "
   ]
  },
  {
   "cell_type": "markdown",
   "id": "following-murray",
   "metadata": {},
   "source": [
    "## Import Modules"
   ]
  },
  {
   "cell_type": "code",
   "execution_count": 1,
   "id": "beginning-valley",
   "metadata": {},
   "outputs": [],
   "source": [
    "from pathlib import Path\n",
    "\n",
    "import matplotlib as mpl\n",
    "import matplotlib.pyplot as plt\n",
    "import numpy as np\n",
    "import pandas as pd\n",
    "import torch\n",
    "from sklearn.model_selection import train_test_split\n",
    "from torch import nn\n",
    "from torch.utils.data import DataLoader, Dataset\n",
    "\n",
    "# Settings for matplotlib\n",
    "%matplotlib inline\n",
    "mpl.rc(\"axes\", labelsize=14)\n",
    "mpl.rc(\"xtick\", labelsize=12)\n",
    "mpl.rc(\"ytick\", labelsize=12)\n",
    "\n",
    "# Specify float format for pandas tables\n",
    "pd.options.display.float_format = \"{:.3f}\".format"
   ]
  },
  {
   "cell_type": "markdown",
   "id": "artistic-bubble",
   "metadata": {},
   "source": [
    "## Load Data\n",
    "\n",
    "We should first load data and the separate label column from training dataset."
   ]
  },
  {
   "cell_type": "code",
   "execution_count": 2,
   "id": "multiple-agency",
   "metadata": {},
   "outputs": [],
   "source": [
    "# Load train and test data\n",
    "df = pd.read_csv(\"../../data/variant_1.csv\")\n",
    "\n",
    "#Use the last 3 months of data to test\n",
    "train = df[df['month'] < 5]\n",
    "test = df[df['month'] >= 5]"
   ]
  },
  {
   "cell_type": "code",
   "execution_count": 3,
   "id": "sought-comparison",
   "metadata": {},
   "outputs": [
    {
     "name": "stdout",
     "output_type": "stream",
     "text": [
      "<class 'pandas.core.frame.DataFrame'>\n",
      "Index: 675668 entries, 0 to 675667\n",
      "Data columns (total 32 columns):\n",
      " #   Column                            Non-Null Count   Dtype  \n",
      "---  ------                            --------------   -----  \n",
      " 0   fraud_bool                        675668 non-null  int64  \n",
      " 1   income                            675668 non-null  float64\n",
      " 2   name_email_similarity             675668 non-null  float64\n",
      " 3   prev_address_months_count         675668 non-null  int64  \n",
      " 4   current_address_months_count      675668 non-null  int64  \n",
      " 5   customer_age                      675668 non-null  int64  \n",
      " 6   days_since_request                675668 non-null  float64\n",
      " 7   intended_balcon_amount            675668 non-null  float64\n",
      " 8   payment_type                      675668 non-null  object \n",
      " 9   zip_count_4w                      675668 non-null  int64  \n",
      " 10  velocity_6h                       675668 non-null  float64\n",
      " 11  velocity_24h                      675668 non-null  float64\n",
      " 12  velocity_4w                       675668 non-null  float64\n",
      " 13  bank_branch_count_8w              675668 non-null  int64  \n",
      " 14  date_of_birth_distinct_emails_4w  675668 non-null  int64  \n",
      " 15  employment_status                 675668 non-null  object \n",
      " 16  credit_risk_score                 675668 non-null  int64  \n",
      " 17  email_is_free                     675668 non-null  int64  \n",
      " 18  housing_status                    675668 non-null  object \n",
      " 19  phone_home_valid                  675668 non-null  int64  \n",
      " 20  phone_mobile_valid                675668 non-null  int64  \n",
      " 21  bank_months_count                 675668 non-null  int64  \n",
      " 22  has_other_cards                   675668 non-null  int64  \n",
      " 23  proposed_credit_limit             675668 non-null  float64\n",
      " 24  foreign_request                   675668 non-null  int64  \n",
      " 25  source                            675668 non-null  object \n",
      " 26  session_length_in_minutes         675668 non-null  float64\n",
      " 27  device_os                         675668 non-null  object \n",
      " 28  keep_alive_session                675668 non-null  int64  \n",
      " 29  device_distinct_emails_8w         675668 non-null  int64  \n",
      " 30  device_fraud_count                675668 non-null  int64  \n",
      " 31  month                             675668 non-null  int64  \n",
      "dtypes: float64(9), int64(18), object(5)\n",
      "memory usage: 170.1+ MB\n"
     ]
    }
   ],
   "source": [
    "train.info()"
   ]
  },
  {
   "cell_type": "code",
   "execution_count": 4,
   "id": "portable-studio",
   "metadata": {},
   "outputs": [],
   "source": [
    "# Separate training features from label column\n",
    "train_labels = train[\"fraud_bool\"].copy()\n",
    "train = train.drop(\"fraud_bool\", axis=1)"
   ]
  },
  {
   "cell_type": "markdown",
   "id": "emotional-stocks",
   "metadata": {},
   "source": [
    "## Feature Engineering\n",
    "\n",
    "Feature engineering can take various forms depending on the type of data in each column. For federated learning prototyping, it's generally best to preprocess the data before splitting it across clients. This ensures consistent processing steps and standardization across all clients. However, in real-world scenarios, it's also important to consider the challenges of feature preprocessing when data is already distributed across different clients. In general, we can follow these guidelines:  \n",
    "\n",
    "### **1. Handling Categorical Features**  \n",
    "Categorical variables need to be encoded to be usable in a machine learning model.  \n",
    "**Label Encoding** (for ordinal categories):\n",
    "\n",
    "```python\n",
    "  from sklearn.preprocessing import LabelEncoder\n",
    "  \n",
    "  df['category_encoded'] = LabelEncoder().fit_transform(df['category_column'])\n",
    "```\n",
    "\n",
    "**One-Hot Encoding** (for nominal categories):\n",
    "\n",
    "```python\n",
    "  df = pd.get_dummies(df, columns=['category_column'], drop_first=True)\n",
    "```\n",
    "\n",
    "### **2. Handling Numerical Features**\n",
    "Numerical features may need (not all) transformations to improve model performance.\n",
    "\n",
    "**Log Transformation** (for skewed distributions):\n",
    "\n",
    "```python\n",
    "  df['log_feature'] = df['numerical_feature'].apply(lambda x: np.log1p(x))\n",
    "```\n",
    "\n",
    "**Binning/Discretization** (for grouping continuous values):\n",
    "\n",
    "```python\n",
    "  df['binned_feature'] = pd.cut(df['numerical_feature'], bins=5, labels=False)\n",
    "```\n",
    "\n",
    "\n",
    "\n",
    "### **3. Handling Date Features**\n",
    "Dates should be converted into useful numerical representations.\n",
    "\n",
    "**Extracting Date Components**:\n",
    "\n",
    "```python\n",
    "  df['year'] = df['date_column'].dt.year\n",
    "  df['month'] = df['date_column'].dt.month\n",
    "  df['day'] = df['date_column'].dt.day\n",
    "  df['weekday'] = df['date_column'].dt.weekday\n",
    "```\n",
    "\n",
    "**Cyclic Encoding** (for periodic features like months and weekdays):\n",
    "\n",
    "```python\n",
    "  df['month_sin'] = np.sin(2 * np.pi * df['month'] / 12)\n",
    "  df['month_cos'] = np.cos(2 * np.pi * df['month'] / 12)\n",
    "\n",
    "  df['week_sin'] = np.sin(2 * np.pi * df['week'] / 7)\n",
    "  df['week_cos'] = np.cos(2 * np.pi * df['week'] / 7)\n",
    "```\n",
    "\n",
    "**Compute Time Differences** (useful for Neural Networks):\n",
    "\n",
    "```python\n",
    "  df['days_since_start'] = (df['date'] - df['date'].min()).dt.days\n",
    "  df['time_since_event'] = (df['date'] - df['event_date']).dt.days\n",
    "```\n",
    "\n",
    "### **4. Handling Missing Values**\n",
    "Missing data should be addressed to avoid issues in training.\n",
    "\n",
    "**Fill with Mean/Median** (for numerical data):\n",
    "\n",
    "```python\n",
    "  df['numerical_feature'].fillna(df['numerical_feature'].median(), inplace=True)\n",
    "```\n",
    "\n",
    "**Fill with Mode** (for categorical data):\n",
    "\n",
    "```python\n",
    "  df['category_column'].fillna(df['category_column'].mode()[0], inplace=True)\n",
    "```\n",
    "\n",
    "**Use Indicator Columns for Missing Values**:\n",
    "\n",
    "```python\n",
    "  df['missing_indicator'] = df['numerical_feature'].isna().astype(int)\n",
    "```\n",
    "\n",
    "### **5. Scaling and Normalization**\n",
    "\n",
    "Scaling ensures all features have similar ranges, improving model performance. It is particularly important for numerical columns.\n",
    "\n",
    "**Standardization** (zero mean, unit variance):\n",
    "\n",
    "```python\n",
    "  from sklearn.preprocessing import StandardScaler\n",
    "\n",
    "  scaler = StandardScaler()\n",
    "  df[['numerical_feature']] = scaler.fit_transform(df[['numerical_feature']])\n",
    "```\n",
    "\n",
    "**Min-Max Scaling** (scales values between 0 and 1):\n",
    "\n",
    "```python\n",
    "  from sklearn.preprocessing import MinMaxScaler\n",
    "\n",
    "  scaler = MinMaxScaler()\n",
    "  df[['numerical_feature']] = scaler.fit_transform(df[['numerical_feature']])\n",
    "```\n",
    "### **6. Feature Interaction and Polynomial Features**\n",
    "\n",
    "You can combine existing features to capture non-linear relationships.\n",
    "\n",
    "### **7. Column Dropping**\n",
    "\n",
    "Also you can drop unnecessary column that would not effect training results.\n",
    "\n",
    "Here is a sample feature engineering process applied to our dataset:"
   ]
  },
  {
   "cell_type": "code",
   "execution_count": 5,
   "id": "vital-service",
   "metadata": {},
   "outputs": [],
   "source": [
    "def feature_engineering(df: pd.DataFrame) -> pd.DataFrame:\n",
    "\n",
    "    # The Fare column is skewed, so taking the natural log will make it more even\n",
    "    columns_to_log = ['current_address_months_count','days_since_request','intended_balcon_amount','bank_branch_count_8w']\n",
    "    for col in columns_to_log:\n",
    "        train[col] = np.log1p(train[col])\n",
    "\n",
    "    return df"
   ]
  },
  {
   "cell_type": "code",
   "execution_count": 6,
   "id": "powerful-graphic",
   "metadata": {},
   "outputs": [
    {
     "name": "stdout",
     "output_type": "stream",
     "text": [
      "10 90\n"
     ]
    },
    {
     "name": "stdout",
     "output_type": "stream",
     "text": [
      "(675668, 29)\n",
      "(675668, 53)\n"
     ]
    }
   ],
   "source": [
    "# Apply feature engineering\n",
    "# train = feature_engineering(train)\n",
    "\n",
    "# Remove columns I no longer need\n",
    "train = train.drop([\"device_fraud_count\",\"month\"], axis=1)\n",
    "\n",
    "\n",
    "# Perform min-max scaling\n",
    "\n",
    "def scale_min_max(df: pd.DataFrame, col_name: str, xmin: float, xmax: float) -> pd.DataFrame:\n",
    "    df[col_name] = (df[col_name] - xmin) / (xmax - xmin)\n",
    "    return df\n",
    "\n",
    "\n",
    "train_age_min = train[\"customer_age\"].min()\n",
    "train_age_max = train[\"customer_age\"].max()\n",
    "\n",
    "print(train_age_min,train_age_max)\n",
    "train = scale_min_max(train, \"customer_age\", train_age_min, train_age_max)\n",
    "\n",
    "print(train.dropna(how='any').shape)\n",
    "\n",
    "# Add dummy variables\n",
    "def add_dummies(df: pd.DataFrame, cols: list[str]) -> pd.DataFrame:\n",
    "    df = pd.get_dummies(df, columns=cols, dtype=int)\n",
    "    return df\n",
    "\n",
    "\n",
    "cols = [\"payment_type\", \"employment_status\", \"housing_status\", \"source\", \"device_os\", \"device_distinct_emails_8w\"]\n",
    "train = add_dummies(train, cols)\n",
    "\n",
    "print(train.dropna(how='any').shape)"
   ]
  },
  {
   "cell_type": "code",
   "execution_count": 7,
   "id": "b4028a63",
   "metadata": {},
   "outputs": [
    {
     "name": "stdout",
     "output_type": "stream",
     "text": [
      "(675668, 53)\n"
     ]
    }
   ],
   "source": [
    "print(train.dropna(how='any').shape)"
   ]
  },
  {
   "cell_type": "code",
   "execution_count": 8,
   "id": "yellow-romantic",
   "metadata": {},
   "outputs": [],
   "source": [
    "# Apply the same data processing steps to the test data\n",
    "test_proc = (\n",
    "    # test.pipe(feature_engineering)\n",
    "    test.drop([\"device_fraud_count\",\"month\"], axis=1)\n",
    "    .pipe(scale_min_max, \"customer_age\", train_age_min, train_age_max)\n",
    "    .pipe(add_dummies, cols)\n",
    ")"
   ]
  },
  {
   "cell_type": "markdown",
   "id": "norman-institution",
   "metadata": {},
   "source": [
    "## Define Datasets and Dataloaders"
   ]
  },
  {
   "cell_type": "markdown",
   "id": "artistic-sugar",
   "metadata": {},
   "source": [
    "Now, you can convert the DataFrames to tensors while specifying the data type. Additionally, we can split the training data into separate training and validation sets which is useful for hyperparameter tuning."
   ]
  },
  {
   "cell_type": "code",
   "execution_count": 9,
   "id": "bbb3664b",
   "metadata": {},
   "outputs": [
    {
     "name": "stdout",
     "output_type": "stream",
     "text": [
      "(675668, 53)\n"
     ]
    }
   ],
   "source": [
    "print(train.dropna(how='any').shape)"
   ]
  },
  {
   "cell_type": "code",
   "execution_count": 10,
   "id": "laughing-salvation",
   "metadata": {},
   "outputs": [],
   "source": [
    "x_data = torch.tensor(train.values, dtype=torch.float32)\n",
    "y_data = torch.tensor(train_labels.values, dtype=torch.float32)\n",
    "\n",
    "x_train, x_valid, y_train, y_valid = train_test_split(x_data, y_data, test_size=0.25, shuffle=True)"
   ]
  },
  {
   "cell_type": "code",
   "execution_count": 11,
   "id": "noted-charity",
   "metadata": {},
   "outputs": [],
   "source": [
    "x_test = torch.tensor(test_proc.values, dtype=torch.float32)"
   ]
  },
  {
   "cell_type": "code",
   "execution_count": 12,
   "id": "ambient-veteran",
   "metadata": {},
   "outputs": [],
   "source": [
    "class TabularDataset(Dataset):\n",
    "    def __init__(self, x: torch.Tensor, y: torch.Tensor = None) -> None:\n",
    "        self.x = x\n",
    "        self.y = y\n",
    "\n",
    "    def __len__(self) -> int:\n",
    "        return len(self.x)\n",
    "\n",
    "    def __getitem__(self, idx: int) -> tuple[torch.Tensor, torch.Tensor]:\n",
    "        if self.y is None:\n",
    "            # For test dataset\n",
    "            return self.x[idx], None\n",
    "        else:\n",
    "            # For train and validation dataset\n",
    "            return self.x[idx], self.y[idx]"
   ]
  },
  {
   "cell_type": "code",
   "execution_count": 13,
   "id": "swiss-pioneer",
   "metadata": {},
   "outputs": [],
   "source": [
    "# Create dataset\n",
    "train_dataset = TabularDataset(x_train, y_train)\n",
    "validation_dataset = TabularDataset(x_valid, y_valid)\n",
    "test_dataset = TabularDataset(test_proc, None)\n",
    "\n",
    "# Create DataLoader\n",
    "train_loader = DataLoader(train_dataset, batch_size=128, shuffle=True)\n",
    "validation_loader = DataLoader(train_dataset, batch_size=128, shuffle=False)\n",
    "test_loader = DataLoader(train_dataset, batch_size=128, shuffle=False)"
   ]
  },
  {
   "cell_type": "markdown",
   "id": "narrow-catholic",
   "metadata": {},
   "source": [
    "## Define Model and Optimizers\n",
    "\n",
    "After defining dataloader it is time to implement a simple Multi-Layer Perceptron to train over this data. This model can be replaced with more complex and advanced ones, which can be found in:\n",
    "\n",
    "1. TabNet: https://medium.com/@turkishtechnology/deep-learning-with-tabnet-b881236e28c1\n",
    "2. TabTransformer: https://github.com/lucidrains/tab-transformer-pytorch\n",
    "3. TabPFN: https://arxiv.org/pdf/2207.01848\n",
    "4. DANets: https://github.com/WhatAShot/DANet"
   ]
  },
  {
   "cell_type": "code",
   "execution_count": 14,
   "id": "headed-harris",
   "metadata": {},
   "outputs": [],
   "source": [
    "class BAFModel(nn.Module):\n",
    "    def __init__(self, input_dim: int, num_classes: int = 2) -> None:\n",
    "        super().__init__()\n",
    "        self.linear1 = nn.Linear(input_dim, 64)\n",
    "        self.linear2 = nn.Linear(64, 128)\n",
    "        self.linear3 = nn.Linear(128, 96)\n",
    "        self.linear4 = nn.Linear(96, 32)\n",
    "        self.linear5 = nn.Linear(32, num_classes)\n",
    "        self.relu = nn.ReLU()\n",
    "        self.dropout = nn.Dropout(p=0.25)\n",
    "        self.softmax = nn.Softmax(dim=1)\n",
    "\n",
    "    def forward(self, x: torch.Tensor) -> torch.Tensor:\n",
    "        x = self.dropout(self.relu(self.linear1(x)))\n",
    "        x = self.dropout(self.relu(self.linear2(x)))\n",
    "        x = self.dropout(self.relu(self.linear3(x)))\n",
    "        x = self.dropout(self.relu(self.linear4(x)))\n",
    "        output = self.softmax(self.linear5(x))\n",
    "        return output"
   ]
  },
  {
   "cell_type": "code",
   "execution_count": 15,
   "id": "alike-mounting",
   "metadata": {},
   "outputs": [],
   "source": [
    "# Assign the available processor to device\n",
    "device = \"cuda\" if torch.cuda.is_available() else \"cpu\"\n",
    "\n",
    "model = BAFModel(train.shape[1]).to(device)"
   ]
  },
  {
   "cell_type": "markdown",
   "id": "tough-attachment",
   "metadata": {},
   "source": [
    "## Train and Save the Model\n",
    "\n",
    "Now that we’ve defined the two main components required for training the model, we can proceed with the training process. In addition to the model, we also need to define the optimizer, and loss function, as shown below. We also define accuracy function to compute for validation."
   ]
  },
  {
   "cell_type": "code",
   "execution_count": 16,
   "id": "qualified-howard",
   "metadata": {},
   "outputs": [],
   "source": [
    "loss_fn = torch.nn.CrossEntropyLoss()\n",
    "\n",
    "optimizer = torch.optim.SGD(params=model.parameters(), lr=0.003)\n",
    "\n",
    "\n",
    "def accuracy_fn(y_true: torch.Tensor, y_pred: torch.Tensor) -> float:\n",
    "    correct = torch.eq(y_true, y_pred).sum().item()\n",
    "    acc = correct / len(y_pred) * 100\n",
    "    return acc"
   ]
  },
  {
   "cell_type": "code",
   "execution_count": 17,
   "id": "realistic-while",
   "metadata": {},
   "outputs": [
    {
     "name": "stdout",
     "output_type": "stream",
     "text": [
      "Epoch:    0 | Train Loss: 0.32665, Accuracy: 98.47% | Validation Loss: 0.32319, Accuracy: 99.01%\n",
      "Epoch:    5 | Train Loss: 0.32354, Accuracy: 99.00% | Validation Loss: 0.32319, Accuracy: 99.01%\n",
      "Epoch:   10 | Train Loss: 0.32346, Accuracy: 99.00% | Validation Loss: 0.32319, Accuracy: 99.01%\n",
      "Epoch:   15 | Train Loss: 0.32328, Accuracy: 99.01% | Validation Loss: 0.32319, Accuracy: 99.01%\n",
      "Epoch:   20 | Train Loss: 0.32330, Accuracy: 99.01% | Validation Loss: 0.32319, Accuracy: 99.01%\n",
      "Epoch:   25 | Train Loss: 0.32329, Accuracy: 99.01% | Validation Loss: 0.32319, Accuracy: 99.01%\n",
      "Epoch:   30 | Train Loss: 0.32330, Accuracy: 99.01% | Validation Loss: 0.32319, Accuracy: 99.01%\n",
      "Epoch:   35 | Train Loss: 0.32328, Accuracy: 99.01% | Validation Loss: 0.32319, Accuracy: 99.01%\n",
      "Epoch:   40 | Train Loss: 0.32328, Accuracy: 99.01% | Validation Loss: 0.32319, Accuracy: 99.01%\n",
      "Epoch:   45 | Train Loss: 0.32327, Accuracy: 99.01% | Validation Loss: 0.32319, Accuracy: 99.01%\n",
      "Epoch:   50 | Train Loss: 0.32329, Accuracy: 99.01% | Validation Loss: 0.32319, Accuracy: 99.01%\n",
      "Epoch:   55 | Train Loss: 0.32327, Accuracy: 99.01% | Validation Loss: 0.32319, Accuracy: 99.01%\n",
      "Epoch:   60 | Train Loss: 0.32327, Accuracy: 99.01% | Validation Loss: 0.32319, Accuracy: 99.01%\n",
      "Epoch:   65 | Train Loss: 0.32327, Accuracy: 99.01% | Validation Loss: 0.32319, Accuracy: 99.01%\n",
      "Epoch:   70 | Train Loss: 0.32327, Accuracy: 99.01% | Validation Loss: 0.32319, Accuracy: 99.01%\n",
      "Epoch:   75 | Train Loss: 0.32327, Accuracy: 99.01% | Validation Loss: 0.32319, Accuracy: 99.01%\n",
      "Epoch:   80 | Train Loss: 0.32327, Accuracy: 99.01% | Validation Loss: 0.32319, Accuracy: 99.01%\n",
      "Epoch:   85 | Train Loss: 0.32326, Accuracy: 99.01% | Validation Loss: 0.32319, Accuracy: 99.01%\n",
      "Epoch:   90 | Train Loss: 0.32327, Accuracy: 99.01% | Validation Loss: 0.32319, Accuracy: 99.01%\n",
      "Epoch:   95 | Train Loss: 0.32326, Accuracy: 99.01% | Validation Loss: 0.32319, Accuracy: 99.01%\n"
     ]
    }
   ],
   "source": [
    "# Number of epochs\n",
    "epochs = 100\n",
    "\n",
    "# Empty loss lists to track values\n",
    "epoch_count, train_loss_values, valid_loss_values = [], [], []\n",
    "\n",
    "# Loop through the data\n",
    "for epoch in range(epochs):\n",
    "\n",
    "    # Put the model in training mode\n",
    "    model.train()\n",
    "\n",
    "    total_train_loss: float = 0\n",
    "    total_train_acc: float = 0\n",
    "    num_train_batches: float = 0\n",
    "\n",
    "    for x_train, y_train in train_loader:\n",
    "\n",
    "        # Send data to the device\n",
    "        x_train = x_train.to(device)\n",
    "        y_train = y_train.type(torch.LongTensor).to(device)\n",
    "\n",
    "        # Forward pass to get predictions\n",
    "        # print(x_train)\n",
    "        y_logits = model(x_train)\n",
    "        # Convert logits into predictions\n",
    "        y_pred = torch.argmax(y_logits, dim=1)\n",
    "\n",
    "        # Compute the loss\n",
    "        loss = loss_fn(y_logits, y_train)\n",
    "        # Calculate the accuracy; convert the labels to integers\n",
    "        acc = accuracy_fn(y_train, y_pred)\n",
    "\n",
    "        # Reset the gradients so they don't accumulate each iteration\n",
    "        optimizer.zero_grad()\n",
    "        # Backward pass: backpropagate the prediction loss\n",
    "        loss.backward()\n",
    "        # Gradient descent: adjust the parameters by the gradients collected in the backward pass\n",
    "        optimizer.step()\n",
    "\n",
    "        # Accumulate loss and accuracy\n",
    "        total_train_loss += loss.item()\n",
    "        total_train_acc += acc\n",
    "        num_train_batches += 1\n",
    "\n",
    "    avg_train_loss = total_train_loss / num_train_batches\n",
    "    avg_train_acc = total_train_acc / num_train_batches\n",
    "\n",
    "    # Put the model in evaluation mode\n",
    "    model.eval()\n",
    "\n",
    "    total_valid_loss: float = 0\n",
    "    total_valid_acc: float = 0\n",
    "    num_valid_batches: float = 0\n",
    "\n",
    "    with torch.inference_mode():\n",
    "        for x_valid, y_valid in train_loader:\n",
    "            # Send data to the device\n",
    "            x_valid = x_valid.to(device)\n",
    "            y_valid = y_valid.type(torch.LongTensor).to(device)\n",
    "\n",
    "            valid_logits = model(x_valid)\n",
    "            y_pred = torch.argmax(valid_logits, dim=1)  # convert logits into predictions\n",
    "\n",
    "            valid_loss = loss_fn(valid_logits, y_valid)\n",
    "            valid_acc = accuracy_fn(y_pred, y_valid)\n",
    "\n",
    "            # Accumulate validation loss and accuracy\n",
    "            total_valid_loss += valid_loss.item()\n",
    "            total_valid_acc += valid_acc\n",
    "            num_valid_batches += 1\n",
    "\n",
    "    avg_valid_loss = total_valid_loss / num_valid_batches\n",
    "    avg_valid_acc = total_valid_acc / num_valid_batches\n",
    "\n",
    "    # Print progress a total of 20 times\n",
    "    if epoch % int(epochs / 20) == 0:\n",
    "        print(\n",
    "            f\"Epoch: {epoch:4d} | Train Loss: {avg_train_loss:.5f}, Accuracy: {avg_train_acc:.2f}% | \"\n",
    "            f\"Validation Loss: {avg_valid_loss:.5f}, Accuracy: {avg_valid_acc:.2f}%\"\n",
    "        )\n",
    "        epoch_count.append(epoch)\n",
    "        train_loss_values.append(avg_train_loss)\n",
    "        valid_loss_values.append(avg_valid_loss)"
   ]
  },
  {
   "cell_type": "code",
   "execution_count": 18,
   "id": "parliamentary-sensitivity",
   "metadata": {},
   "outputs": [
    {
     "data": {
      "image/png": "[encoded data removed]",
      "text/plain": [
       "<Figure size 640x480 with 1 Axes>"
      ]
     },
     "metadata": {},
     "output_type": "display_data"
    }
   ],
   "source": [
    "# Plot some of the results\n",
    "plt.plot(epoch_count, train_loss_values, label=\"Training Loss\")\n",
    "plt.plot(epoch_count, valid_loss_values, label=\"Validation Loss\")\n",
    "plt.title(\"Training & Validation Loss Curves\")\n",
    "plt.ylabel(\"Loss\")\n",
    "plt.xlabel(\"Epochs\")\n",
    "plt.legend()\n",
    "plt.show()"
   ]
  },
  {
   "cell_type": "code",
   "execution_count": 19,
   "id": "forbidden-oxford",
   "metadata": {},
   "outputs": [],
   "source": [
    "# Create a directory for models\n",
    "MODEL_PATH = Path(\"models\")\n",
    "MODEL_PATH.mkdir(parents=True, exist_ok=True)\n",
    "\n",
    "# Create a model save path\n",
    "MODEL_NAME = \"pytorch_model.pth\"\n",
    "MODEL_SAVE_PATH = MODEL_PATH / MODEL_NAME\n",
    "\n",
    "# Save the model state dict\n",
    "torch.save(obj=model.state_dict(), f=MODEL_SAVE_PATH)"
   ]
  },
  {
   "cell_type": "markdown",
   "id": "forbidden-economy",
   "metadata": {},
   "source": [
    "## Inference\n",
    "\n",
    "With the model trained and saved, we can now predict labels for the test dataset."
   ]
  },
  {
   "cell_type": "code",
   "execution_count": 20,
   "id": "allied-assist",
   "metadata": {},
   "outputs": [],
   "source": [
    "model.eval()\n",
    "\n",
    "all_preds_list = []\n",
    "\n",
    "for x_test, y_test in test_loader:\n",
    "    # Send data to the device\n",
    "    x_test = x_test.to(device)\n",
    "    y_test = y_test.type(torch.LongTensor).to(device)\n",
    "\n",
    "    test_logits = model(x_test)\n",
    "    y_pred = torch.argmax(test_logits, dim=1)  # convert logits into predictions\n",
    "\n",
    "    all_preds_list.append(y_pred.cpu().detach())\n",
    "\n",
    "all_preds = torch.cat(all_preds_list)"
   ]
  },
  {
   "cell_type": "code",
   "execution_count": 22,
   "id": "unauthorized-barrel",
   "metadata": {},
   "outputs": [
    {
     "data": {
      "text/plain": [
       "tensor([0])"
      ]
     },
     "execution_count": 22,
     "metadata": {},
     "output_type": "execute_result"
    }
   ],
   "source": [
    "all_preds"
   ]
  }
 ],
 "metadata": {
  "kernelspec": {
   "display_name": "flenv",
   "language": "python",
   "name": "python3"
  },
  "language_info": {
   "codemirror_mode": {
    "name": "ipython",
    "version": 3
   },
   "file_extension": ".py",
   "mimetype": "text/x-python",
   "name": "python",
   "nbconvert_exporter": "python",
   "pygments_lexer": "ipython3",
   "version": "3.10.0"
  }
 },
 "nbformat": 4,
 "nbformat_minor": 5
}
